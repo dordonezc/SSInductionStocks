{
 "cells": [
  {
   "cell_type": "code",
   "execution_count": 86,
   "id": "2e5dca76",
   "metadata": {},
   "outputs": [],
   "source": [
    "# import the packages\n",
    "import pandas as pd"
   ]
  },
  {
   "cell_type": "code",
   "execution_count": 87,
   "id": "09e70a63",
   "metadata": {},
   "outputs": [],
   "source": [
    "# import the corpus\n",
    "text = pd.read_csv('cleaned_corpus.csv')\n",
    "text['corpus'] = text['corpus'].apply(eval)"
   ]
  },
  {
   "cell_type": "code",
   "execution_count": 88,
   "id": "36f551da",
   "metadata": {},
   "outputs": [],
   "source": [
    "df = text[['Date', 'corpus']] # select relevant column"
   ]
  },
  {
   "cell_type": "markdown",
   "id": "cf892091",
   "metadata": {},
   "source": [
    "### 1. SemAxis, pretrained embedding"
   ]
  },
  {
   "cell_type": "code",
   "execution_count": 109,
   "id": "82ae5f85",
   "metadata": {},
   "outputs": [],
   "source": [
    "# define the functions to be used\n",
    "def polar_dict1(path):\n",
    "    polar = pd.read_csv(path)\n",
    "    polar = polar.dropna() # remove NaN values\n",
    "    po = dict(list(zip(polar.Word, polar.Sim))) # convert the dataframe to key-value pairs\n",
    "    return po\n",
    "\n",
    "# calculate the sentiment of the articles\n",
    "def calculate_polar1(path, text):\n",
    "    po = polar_dict1(path)\n",
    "    polar = 0\n",
    "    for t in text:\n",
    "        try:\n",
    "            polar += po.get(t)\n",
    "        except TypeError:\n",
    "            polar += 0\n",
    "            \n",
    "    return polar\n",
    "\n",
    "# create the dataframe of the sentiment series\n",
    "def senti(path, Embedding, GType, BType, Method):\n",
    "    df1 = pd.DataFrame(df['Date'])\n",
    "    df1['Score'] = df['corpus'].apply(lambda x: calculate_polar1(path, x)) # get the sentiment of each article\n",
    "    df1 = df1.groupby(by = ['Date'], as_index = False).mean() # calculate the daily sentiment\n",
    "    \n",
    "    df1['Embedding'] = Embedding\n",
    "    df1['GType'] = GType\n",
    "    df1['BType'] = BType\n",
    "    df1['Method'] = Method\n",
    "    \n",
    "    return df1\n",
    "    \n",
    "    "
   ]
  },
  {
   "cell_type": "code",
   "execution_count": 110,
   "id": "bdb1fe0c",
   "metadata": {},
   "outputs": [],
   "source": [
    "df11 = senti('SemAxis11.csv', 'PT', 'F', 'F', 'SemAxis')"
   ]
  },
  {
   "cell_type": "code",
   "execution_count": 111,
   "id": "14d2b47a",
   "metadata": {},
   "outputs": [
    {
     "data": {
      "text/html": [
       "<div>\n",
       "<style scoped>\n",
       "    .dataframe tbody tr th:only-of-type {\n",
       "        vertical-align: middle;\n",
       "    }\n",
       "\n",
       "    .dataframe tbody tr th {\n",
       "        vertical-align: top;\n",
       "    }\n",
       "\n",
       "    .dataframe thead th {\n",
       "        text-align: right;\n",
       "    }\n",
       "</style>\n",
       "<table border=\"1\" class=\"dataframe\">\n",
       "  <thead>\n",
       "    <tr style=\"text-align: right;\">\n",
       "      <th></th>\n",
       "      <th>Date</th>\n",
       "      <th>Score</th>\n",
       "      <th>Embedding</th>\n",
       "      <th>GType</th>\n",
       "      <th>BType</th>\n",
       "      <th>Method</th>\n",
       "    </tr>\n",
       "  </thead>\n",
       "  <tbody>\n",
       "    <tr>\n",
       "      <th>0</th>\n",
       "      <td>2018-10-01</td>\n",
       "      <td>0.118092</td>\n",
       "      <td>PT</td>\n",
       "      <td>F</td>\n",
       "      <td>F</td>\n",
       "      <td>SemAxis</td>\n",
       "    </tr>\n",
       "    <tr>\n",
       "      <th>1</th>\n",
       "      <td>2018-10-02</td>\n",
       "      <td>1.162700</td>\n",
       "      <td>PT</td>\n",
       "      <td>F</td>\n",
       "      <td>F</td>\n",
       "      <td>SemAxis</td>\n",
       "    </tr>\n",
       "    <tr>\n",
       "      <th>2</th>\n",
       "      <td>2018-10-03</td>\n",
       "      <td>1.357619</td>\n",
       "      <td>PT</td>\n",
       "      <td>F</td>\n",
       "      <td>F</td>\n",
       "      <td>SemAxis</td>\n",
       "    </tr>\n",
       "    <tr>\n",
       "      <th>3</th>\n",
       "      <td>2018-10-04</td>\n",
       "      <td>0.706133</td>\n",
       "      <td>PT</td>\n",
       "      <td>F</td>\n",
       "      <td>F</td>\n",
       "      <td>SemAxis</td>\n",
       "    </tr>\n",
       "    <tr>\n",
       "      <th>4</th>\n",
       "      <td>2018-10-05</td>\n",
       "      <td>0.697959</td>\n",
       "      <td>PT</td>\n",
       "      <td>F</td>\n",
       "      <td>F</td>\n",
       "      <td>SemAxis</td>\n",
       "    </tr>\n",
       "  </tbody>\n",
       "</table>\n",
       "</div>"
      ],
      "text/plain": [
       "         Date     Score Embedding GType BType   Method\n",
       "0  2018-10-01  0.118092        PT     F     F  SemAxis\n",
       "1  2018-10-02  1.162700        PT     F     F  SemAxis\n",
       "2  2018-10-03  1.357619        PT     F     F  SemAxis\n",
       "3  2018-10-04  0.706133        PT     F     F  SemAxis\n",
       "4  2018-10-05  0.697959        PT     F     F  SemAxis"
      ]
     },
     "execution_count": 111,
     "metadata": {},
     "output_type": "execute_result"
    }
   ],
   "source": [
    "df11.head()"
   ]
  },
  {
   "cell_type": "code",
   "execution_count": 112,
   "id": "86da4159",
   "metadata": {},
   "outputs": [],
   "source": [
    "df12 = senti('SemAxis12.csv', 'PT', 'NF', 'F', 'SemAxis')"
   ]
  },
  {
   "cell_type": "code",
   "execution_count": 113,
   "id": "baf66e1a",
   "metadata": {},
   "outputs": [
    {
     "data": {
      "text/html": [
       "<div>\n",
       "<style scoped>\n",
       "    .dataframe tbody tr th:only-of-type {\n",
       "        vertical-align: middle;\n",
       "    }\n",
       "\n",
       "    .dataframe tbody tr th {\n",
       "        vertical-align: top;\n",
       "    }\n",
       "\n",
       "    .dataframe thead th {\n",
       "        text-align: right;\n",
       "    }\n",
       "</style>\n",
       "<table border=\"1\" class=\"dataframe\">\n",
       "  <thead>\n",
       "    <tr style=\"text-align: right;\">\n",
       "      <th></th>\n",
       "      <th>Date</th>\n",
       "      <th>Score</th>\n",
       "      <th>Embedding</th>\n",
       "      <th>GType</th>\n",
       "      <th>BType</th>\n",
       "      <th>Method</th>\n",
       "    </tr>\n",
       "  </thead>\n",
       "  <tbody>\n",
       "    <tr>\n",
       "      <th>0</th>\n",
       "      <td>2018-10-01</td>\n",
       "      <td>0.026723</td>\n",
       "      <td>PT</td>\n",
       "      <td>NF</td>\n",
       "      <td>F</td>\n",
       "      <td>SemAxis</td>\n",
       "    </tr>\n",
       "    <tr>\n",
       "      <th>1</th>\n",
       "      <td>2018-10-02</td>\n",
       "      <td>1.090884</td>\n",
       "      <td>PT</td>\n",
       "      <td>NF</td>\n",
       "      <td>F</td>\n",
       "      <td>SemAxis</td>\n",
       "    </tr>\n",
       "    <tr>\n",
       "      <th>2</th>\n",
       "      <td>2018-10-03</td>\n",
       "      <td>1.041153</td>\n",
       "      <td>PT</td>\n",
       "      <td>NF</td>\n",
       "      <td>F</td>\n",
       "      <td>SemAxis</td>\n",
       "    </tr>\n",
       "    <tr>\n",
       "      <th>3</th>\n",
       "      <td>2018-10-04</td>\n",
       "      <td>0.487735</td>\n",
       "      <td>PT</td>\n",
       "      <td>NF</td>\n",
       "      <td>F</td>\n",
       "      <td>SemAxis</td>\n",
       "    </tr>\n",
       "    <tr>\n",
       "      <th>4</th>\n",
       "      <td>2018-10-05</td>\n",
       "      <td>0.511493</td>\n",
       "      <td>PT</td>\n",
       "      <td>NF</td>\n",
       "      <td>F</td>\n",
       "      <td>SemAxis</td>\n",
       "    </tr>\n",
       "  </tbody>\n",
       "</table>\n",
       "</div>"
      ],
      "text/plain": [
       "         Date     Score Embedding GType BType   Method\n",
       "0  2018-10-01  0.026723        PT    NF     F  SemAxis\n",
       "1  2018-10-02  1.090884        PT    NF     F  SemAxis\n",
       "2  2018-10-03  1.041153        PT    NF     F  SemAxis\n",
       "3  2018-10-04  0.487735        PT    NF     F  SemAxis\n",
       "4  2018-10-05  0.511493        PT    NF     F  SemAxis"
      ]
     },
     "execution_count": 113,
     "metadata": {},
     "output_type": "execute_result"
    }
   ],
   "source": [
    "df12.head()"
   ]
  },
  {
   "cell_type": "code",
   "execution_count": 114,
   "id": "4f799ebf",
   "metadata": {},
   "outputs": [],
   "source": [
    "df13 = senti('SemAxis13.csv', 'PT', 'F', 'NF', 'SemAxis')"
   ]
  },
  {
   "cell_type": "code",
   "execution_count": 116,
   "id": "c09f3067",
   "metadata": {},
   "outputs": [],
   "source": [
    "df14 = senti('SemAxis14.csv', 'PT', 'NF', 'NF', 'SemAxis')"
   ]
  },
  {
   "cell_type": "markdown",
   "id": "e3f9f9fe",
   "metadata": {},
   "source": [
    "## 2. SemAxis, Self-trained embedding"
   ]
  },
  {
   "cell_type": "code",
   "execution_count": 117,
   "id": "3b28d5b5",
   "metadata": {},
   "outputs": [],
   "source": [
    "df21 = senti('SemAxis21.csv', 'T', 'F', 'F', 'SemAxis') # F + F, self trained embedding"
   ]
  },
  {
   "cell_type": "code",
   "execution_count": 118,
   "id": "a2c207fe",
   "metadata": {},
   "outputs": [],
   "source": [
    "df22 = senti('SemAxis22.csv', 'T', 'NF', 'F', 'SemAxis') # NF + F, self trained embedding"
   ]
  },
  {
   "cell_type": "code",
   "execution_count": 119,
   "id": "bd9aa892",
   "metadata": {},
   "outputs": [],
   "source": [
    "df23 = senti('SemAxis23.csv', 'T', 'F', 'NF', 'SemAxis') # F + NF, self trained embedding"
   ]
  },
  {
   "cell_type": "code",
   "execution_count": 120,
   "id": "9ff1421a",
   "metadata": {},
   "outputs": [],
   "source": [
    "df24 = senti('SemAxis24.csv', 'T', 'NF', 'NF', 'SemAxis') # NF + NF, self trained embedding"
   ]
  },
  {
   "cell_type": "markdown",
   "id": "0c81ae99",
   "metadata": {},
   "source": [
    "## 3. SentiProp, pre-trained embedding"
   ]
  },
  {
   "cell_type": "code",
   "execution_count": 121,
   "id": "6aefe6b5",
   "metadata": {},
   "outputs": [],
   "source": [
    "# define the functions to be used\n",
    "def polar_dict2(path):\n",
    "    polar = pd.read_csv(path)\n",
    "    polar = polar.dropna() # remove NaN values\n",
    "    po = dict(list(zip(polar.words, polar.polarity))) # convert the dataframe to key-value pairs\n",
    "    return po\n",
    "\n",
    "# calculate the sentiment of the articles\n",
    "def calculate_polar2(path, text):\n",
    "    po = polar_dict2(path)\n",
    "    polar = 0\n",
    "    for t in text:\n",
    "        try:\n",
    "            polar += po.get(t)\n",
    "        except TypeError:\n",
    "            polar += 0\n",
    "            \n",
    "    return polar\n",
    "\n",
    "\n",
    "# create the dataframe of the sentiment series\n",
    "def senti(path, Embedding, GType, BType, Method):\n",
    "    df1 = pd.DataFrame(df['Date'])\n",
    "    df1['Score'] = df['corpus'].apply(lambda x: calculate_polar2(path, x)) # get the sentiment of each article\n",
    "    df1 = df1.groupby(by = ['Date'], as_index = False).mean() # calculate the daily sentiment\n",
    "    \n",
    "    df1['Embedding'] = Embedding\n",
    "    df1['GType'] = GType\n",
    "    df1['BType'] = BType\n",
    "    df1['Method'] = Method\n",
    "    \n",
    "    return df1"
   ]
  },
  {
   "cell_type": "code",
   "execution_count": 122,
   "id": "664bbd8a",
   "metadata": {},
   "outputs": [],
   "source": [
    "df31 = senti('SentiProp11.csv', 'PT', 'F', 'F', 'SentiProp') "
   ]
  },
  {
   "cell_type": "code",
   "execution_count": 123,
   "id": "cdba72ff",
   "metadata": {},
   "outputs": [],
   "source": [
    "df32 = senti('SentiProp12.csv', 'PT', 'NF', 'F', 'SentiProp') "
   ]
  },
  {
   "cell_type": "code",
   "execution_count": 124,
   "id": "d196b310",
   "metadata": {},
   "outputs": [],
   "source": [
    "df33 = senti('SentiProp13.csv', 'PT', 'F', 'NF', 'SentiProp') "
   ]
  },
  {
   "cell_type": "code",
   "execution_count": 125,
   "id": "f18786a8",
   "metadata": {},
   "outputs": [],
   "source": [
    "df34 = senti('SentiProp14.csv', 'PT', 'NF', 'NF', 'SentiProp')"
   ]
  },
  {
   "cell_type": "markdown",
   "id": "8f01f432",
   "metadata": {},
   "source": [
    "## 4. SentiProp, self-trained embedding"
   ]
  },
  {
   "cell_type": "code",
   "execution_count": 126,
   "id": "9a126bdc",
   "metadata": {},
   "outputs": [],
   "source": [
    "df41 = senti('SentiProp21.csv', 'T', 'F', 'F', 'SentiProp') "
   ]
  },
  {
   "cell_type": "code",
   "execution_count": 127,
   "id": "f24a6843",
   "metadata": {},
   "outputs": [],
   "source": [
    "df42 = senti('SentiProp22.csv', 'T', 'NF', 'F', 'SentiProp') "
   ]
  },
  {
   "cell_type": "code",
   "execution_count": 128,
   "id": "7c002f09",
   "metadata": {},
   "outputs": [],
   "source": [
    "df43 = senti('SentiProp23.csv', 'T', 'F', 'NF', 'SentiProp') "
   ]
  },
  {
   "cell_type": "code",
   "execution_count": 129,
   "id": "121baf3d",
   "metadata": {},
   "outputs": [],
   "source": [
    "df44 = senti('SentiProp24.csv', 'T', 'NF', 'NF', 'SentiProp') "
   ]
  },
  {
   "cell_type": "code",
   "execution_count": 130,
   "id": "6fce4923",
   "metadata": {},
   "outputs": [],
   "source": [
    "# concate all the dataframes\n",
    "dfs = [df11, df12, df13, df14, df21, df22, df23, df24, df31, df32, df33, df34, df41, df42, df43, df44]\n",
    "result = pd.concat(dfs)"
   ]
  },
  {
   "cell_type": "code",
   "execution_count": 133,
   "id": "9421cf0e",
   "metadata": {},
   "outputs": [],
   "source": [
    "res = result.sort_values(by = ['Date', 'Method'])"
   ]
  },
  {
   "cell_type": "code",
   "execution_count": 135,
   "id": "e1297556",
   "metadata": {},
   "outputs": [],
   "source": [
    "res.to_csv('WSJ_sentiment.csv', index = False)"
   ]
  }
 ],
 "metadata": {
  "kernelspec": {
   "display_name": "sample_env",
   "language": "python",
   "name": "sample_env"
  },
  "language_info": {
   "codemirror_mode": {
    "name": "ipython",
    "version": 3
   },
   "file_extension": ".py",
   "mimetype": "text/x-python",
   "name": "python",
   "nbconvert_exporter": "python",
   "pygments_lexer": "ipython3",
   "version": "3.7.8"
  }
 },
 "nbformat": 4,
 "nbformat_minor": 5
}
