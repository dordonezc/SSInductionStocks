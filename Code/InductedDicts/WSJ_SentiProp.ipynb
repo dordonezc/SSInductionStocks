{
 "cells": [
  {
   "cell_type": "code",
   "execution_count": 55,
   "id": "3550d8e7",
   "metadata": {},
   "outputs": [],
   "source": [
    "# load the packages \n",
    "import pandas as pd\n",
    "import numpy as np\n",
    "from scipy import spatial\n",
    "import datetime\n",
    "\n",
    "import beautifultools as bt\n",
    "import qgrid\n",
    "from pandas.core.common import flatten\n",
    "from collections import Counter\n",
    "\n",
    "import matplotlib.pyplot as plt\n",
    "import seaborn as sns\n",
    "from sklearn import preprocessing\n",
    "import scipy.stats\n",
    "import spacy\n",
    "\n",
    "from collections import Counter\n",
    "import random\n",
    "random.seed(3)\n",
    "\n",
    "from sklearn.preprocessing import normalize\n",
    "from RandomWalk import random_walk\n",
    "import re\n",
    "import string\n",
    "import nltk\n",
    "nltk.data.path.append('/home/ec2-user/SageMaker/nltk_data/')"
   ]
  },
  {
   "cell_type": "markdown",
   "id": "5a4f55b4",
   "metadata": {},
   "source": [
    "## 1. Pretrained Embedding"
   ]
  },
  {
   "cell_type": "code",
   "execution_count": 56,
   "id": "9081140b",
   "metadata": {},
   "outputs": [],
   "source": [
    "# import the seeds\n",
    "bad = pd.read_csv('wsj_negative_lag1.csv')\n",
    "good = pd.read_csv('wsj_positive_lag1.csv')"
   ]
  },
  {
   "cell_type": "code",
   "execution_count": 57,
   "id": "c7858f98",
   "metadata": {},
   "outputs": [
    {
     "data": {
      "text/plain": [
       "array([[-0.08249189,  0.01167151, -0.10107464, ..., -0.04933412,\n",
       "        -0.01598175,  0.04746702],\n",
       "       [-0.0010394 ,  0.03656485, -0.00081964, ...,  0.1107814 ,\n",
       "        -0.00825955, -0.09981602],\n",
       "       [ 0.01060743,  0.01025556, -0.01155049, ..., -0.00607439,\n",
       "        -0.04853532, -0.03358128],\n",
       "       ...,\n",
       "       [-0.00112163,  0.01868573,  0.06130268, ...,  0.03201686,\n",
       "        -0.02291513,  0.04575155],\n",
       "       [ 0.08371475,  0.04257114,  0.09292691, ..., -0.05961479,\n",
       "         0.01807887, -0.07066598],\n",
       "       [-0.02616378,  0.03762512,  0.15267952, ...,  0.02187933,\n",
       "        -0.03589194, -0.01210936]])"
      ]
     },
     "execution_count": 57,
     "metadata": {},
     "output_type": "execute_result"
    }
   ],
   "source": [
    "# import the pretrained embedding\n",
    "w_embed = pd.read_csv(\"pre_embedding.csv\")\n",
    "w_embed.drop('Unnamed: 0', inplace = True, axis = 1)\n",
    "\n",
    "w_embed = w_embed.dropna(axis='columns')\n",
    "words = w_embed.columns.values\n",
    "\n",
    "embeddings = w_embed.T.values\n",
    "\n",
    "\n",
    "normalize(embeddings, copy=False)"
   ]
  },
  {
   "cell_type": "markdown",
   "id": "3d520a99",
   "metadata": {},
   "source": [
    "### 1.1 Pretrained Embedding  (F + F)"
   ]
  },
  {
   "cell_type": "code",
   "execution_count": 58,
   "id": "136d1b96",
   "metadata": {},
   "outputs": [],
   "source": [
    "good_words = np.reshape(good[good['Comment'] != 'Yellow']['word'].values, -1)\n",
    "bad_words = np.reshape(bad[bad['Comment'] != 'Yellow']['word'].values, -1)"
   ]
  },
  {
   "cell_type": "code",
   "execution_count": 59,
   "id": "9c02f3e0",
   "metadata": {},
   "outputs": [],
   "source": [
    "## Sentiprop\n",
    "polarities = random_walk(words, embeddings, good_words, bad_words, beta=0.99, nn=25, arccos=False)\n",
    "\n",
    "polarities_df = pd.DataFrame(polarities.items())\n",
    "polarities_df.columns = [\"words\", \"polarity\"]\n",
    "polarities_df.sort_values(\"polarity\",inplace = True)"
   ]
  },
  {
   "cell_type": "code",
   "execution_count": 60,
   "id": "3ca9aefe",
   "metadata": {},
   "outputs": [
    {
     "data": {
      "image/png": "[encoded data removed]",
      "text/plain": [
       "<Figure size 432x288 with 1 Axes>"
      ]
     },
     "metadata": {
      "needs_background": "light"
     },
     "output_type": "display_data"
    }
   ],
   "source": [
    "plt.hist(polarities.values())\n",
    "plt.show()"
   ]
  },
  {
   "cell_type": "code",
   "execution_count": 61,
   "id": "976e5aa4",
   "metadata": {},
   "outputs": [],
   "source": [
    "polarities_df.to_csv(\"SentiProp11.csv\", index = False)"
   ]
  },
  {
   "cell_type": "markdown",
   "id": "6422d4b7",
   "metadata": {},
   "source": [
    "### 1.2. Pretrained Embedding (NF + F)"
   ]
  },
  {
   "cell_type": "code",
   "execution_count": 62,
   "id": "1a88e7bc",
   "metadata": {},
   "outputs": [],
   "source": [
    "good_words = np.reshape(good['word'].values, -1)\n",
    "bad_words = np.reshape(bad[bad['Comment'] != 'Yellow']['word'].values, -1)"
   ]
  },
  {
   "cell_type": "code",
   "execution_count": 63,
   "id": "ed9aa731",
   "metadata": {},
   "outputs": [],
   "source": [
    "## Sentiprop\n",
    "polarities = random_walk(words, embeddings, good_words, bad_words, beta=0.99, nn=25, arccos=False)\n",
    "\n",
    "polarities_df = pd.DataFrame(polarities.items())\n",
    "polarities_df.columns = [\"words\", \"polarity\"]\n",
    "polarities_df.sort_values(\"polarity\",inplace = True)"
   ]
  },
  {
   "cell_type": "code",
   "execution_count": 64,
   "id": "0c310330",
   "metadata": {},
   "outputs": [
    {
     "data": {
      "image/png": "[encoded data removed]",
      "text/plain": [
       "<Figure size 432x288 with 1 Axes>"
      ]
     },
     "metadata": {
      "needs_background": "light"
     },
     "output_type": "display_data"
    }
   ],
   "source": [
    "plt.hist(polarities.values())\n",
    "plt.show()"
   ]
  },
  {
   "cell_type": "code",
   "execution_count": 65,
   "id": "b3733ebe",
   "metadata": {},
   "outputs": [],
   "source": [
    "polarities_df.to_csv(\"SentiProp12.csv\", index = False)"
   ]
  },
  {
   "cell_type": "markdown",
   "id": "65c771f2",
   "metadata": {},
   "source": [
    "### 1.3. Pretrained Embedding (F + NF)"
   ]
  },
  {
   "cell_type": "code",
   "execution_count": 66,
   "id": "7a088047",
   "metadata": {},
   "outputs": [],
   "source": [
    "good_words = np.reshape(good[good['Comment'] != 'Yellow']['word'].values, -1)\n",
    "bad_words = np.reshape(bad['word'].values, -1)"
   ]
  },
  {
   "cell_type": "code",
   "execution_count": 67,
   "id": "7707a2e3",
   "metadata": {},
   "outputs": [],
   "source": [
    "## Sentiprop\n",
    "polarities = random_walk(words, embeddings, good_words, bad_words, beta=0.99, nn=25, arccos=False)\n",
    "\n",
    "polarities_df = pd.DataFrame(polarities.items())\n",
    "polarities_df.columns = [\"words\", \"polarity\"]\n",
    "polarities_df.sort_values(\"polarity\",inplace = True)"
   ]
  },
  {
   "cell_type": "code",
   "execution_count": 68,
   "id": "afaa0895",
   "metadata": {},
   "outputs": [],
   "source": [
    "polarities_df.to_csv(\"SentiProp13.csv\", index = False)"
   ]
  },
  {
   "cell_type": "markdown",
   "id": "84c86f20",
   "metadata": {},
   "source": [
    "### 1.4. Pretrained Embedding (NF + NF)"
   ]
  },
  {
   "cell_type": "code",
   "execution_count": 69,
   "id": "33a58828",
   "metadata": {},
   "outputs": [],
   "source": [
    "good_words = np.reshape(good['word'].values, -1)\n",
    "bad_words = np.reshape(bad['word'].values, -1)"
   ]
  },
  {
   "cell_type": "code",
   "execution_count": 70,
   "id": "33498392",
   "metadata": {},
   "outputs": [],
   "source": [
    "## Sentiprop\n",
    "polarities = random_walk(words, embeddings, good_words, bad_words, beta=0.99, nn=25, arccos=False)\n",
    "\n",
    "polarities_df = pd.DataFrame(polarities.items())\n",
    "polarities_df.columns = [\"words\", \"polarity\"]\n",
    "polarities_df.sort_values(\"polarity\",inplace = True)"
   ]
  },
  {
   "cell_type": "code",
   "execution_count": 71,
   "id": "a8c493a7",
   "metadata": {},
   "outputs": [],
   "source": [
    "polarities_df.to_csv(\"SentiProp14.csv\", index = False)"
   ]
  },
  {
   "cell_type": "markdown",
   "id": "47202b54",
   "metadata": {},
   "source": [
    "## 2. Self-trained Embedding"
   ]
  },
  {
   "cell_type": "code",
   "execution_count": 72,
   "id": "0ff1e2d8",
   "metadata": {},
   "outputs": [
    {
     "data": {
      "text/plain": [
       "array([[-0.09323193,  0.01690682,  0.03839168, ...,  0.0783374 ,\n",
       "         0.0028675 ,  0.1383232 ],\n",
       "       [ 0.13629262, -0.0232656 , -0.25623534, ...,  0.18320877,\n",
       "         0.02720927, -0.19735112],\n",
       "       [ 0.09858884, -0.04366817, -0.14795948, ..., -0.05736457,\n",
       "         0.07284397,  0.01853995],\n",
       "       ...,\n",
       "       [-0.16276196, -0.04732764,  0.17595766, ...,  0.14430101,\n",
       "        -0.08142769,  0.25215587],\n",
       "       [-0.13486462,  0.22444564,  0.09924496, ..., -0.02964717,\n",
       "         0.11223985, -0.22036555],\n",
       "       [-0.15014536,  0.42754374,  0.07689856, ...,  0.08554885,\n",
       "         0.23197712,  0.02511311]])"
      ]
     },
     "execution_count": 72,
     "metadata": {},
     "output_type": "execute_result"
    }
   ],
   "source": [
    "self_embed = pd.read_csv(\"self_embedding.csv\")\n",
    "self_embed.drop('Unnamed: 0', inplace = True, axis = 1)\n",
    "\n",
    "self_embed = self_embed.dropna(axis='columns')\n",
    "s_words = self_embed.columns.values\n",
    "\n",
    "s_embeddings = self_embed.T.values\n",
    "\n",
    "\n",
    "normalize(s_embeddings, copy=False)"
   ]
  },
  {
   "cell_type": "markdown",
   "id": "9ac80f22",
   "metadata": {},
   "source": [
    "### 2.1 Self-trained Embedding  (F + F)"
   ]
  },
  {
   "cell_type": "code",
   "execution_count": 73,
   "id": "b52c8241",
   "metadata": {},
   "outputs": [],
   "source": [
    "good_words = np.reshape(good[good['Comment'] != 'Yellow']['word'].values, -1)\n",
    "bad_words = np.reshape(bad[bad['Comment'] != 'Yellow']['word'].values, -1)\n",
    "\n",
    "## Sentiprop\n",
    "polarities = random_walk(s_words, s_embeddings, good_words, bad_words, beta=0.99, nn=25, arccos=False)\n",
    "\n",
    "polarities_df = pd.DataFrame(polarities.items())\n",
    "polarities_df.columns = [\"words\", \"polarity\"]\n",
    "polarities_df.sort_values(\"polarity\",inplace = True)"
   ]
  },
  {
   "cell_type": "code",
   "execution_count": 74,
   "id": "7c0bc139",
   "metadata": {},
   "outputs": [
    {
     "data": {
      "image/png": "[encoded data removed]",
      "text/plain": [
       "<Figure size 432x288 with 1 Axes>"
      ]
     },
     "metadata": {
      "needs_background": "light"
     },
     "output_type": "display_data"
    }
   ],
   "source": [
    "plt.hist(polarities.values())\n",
    "plt.show()"
   ]
  },
  {
   "cell_type": "code",
   "execution_count": 75,
   "id": "e2977b6f",
   "metadata": {},
   "outputs": [],
   "source": [
    "polarities_df.to_csv(\"SentiProp21.csv\", index = False)"
   ]
  },
  {
   "cell_type": "markdown",
   "id": "7e93c5ae",
   "metadata": {},
   "source": [
    "### 2.2 Self-trained Embedding  (NF + F)"
   ]
  },
  {
   "cell_type": "code",
   "execution_count": 76,
   "id": "87fc67f3",
   "metadata": {},
   "outputs": [],
   "source": [
    "good_words = np.reshape(good['word'].values, -1)\n",
    "bad_words = np.reshape(bad[bad['Comment'] != 'Yellow']['word'].values, -1)\n",
    "\n",
    "## Sentiprop\n",
    "polarities = random_walk(s_words, s_embeddings, good_words, bad_words, beta=0.99, nn=25, arccos=False)\n",
    "\n",
    "polarities_df = pd.DataFrame(polarities.items())\n",
    "polarities_df.columns = [\"words\", \"polarity\"]\n",
    "polarities_df.sort_values(\"polarity\",inplace = True)"
   ]
  },
  {
   "cell_type": "code",
   "execution_count": 77,
   "id": "3aa92b5c",
   "metadata": {},
   "outputs": [
    {
     "data": {
      "image/png": "[encoded data removed]",
      "text/plain": [
       "<Figure size 432x288 with 1 Axes>"
      ]
     },
     "metadata": {
      "needs_background": "light"
     },
     "output_type": "display_data"
    }
   ],
   "source": [
    "plt.hist(polarities.values())\n",
    "plt.show()"
   ]
  },
  {
   "cell_type": "code",
   "execution_count": 78,
   "id": "248184ff",
   "metadata": {},
   "outputs": [],
   "source": [
    "polarities_df.to_csv(\"SentiProp22.csv\", index = False)"
   ]
  },
  {
   "cell_type": "markdown",
   "id": "c65cebcb",
   "metadata": {},
   "source": [
    "### 2.3 Self-trained Embedding  (F + NF)"
   ]
  },
  {
   "cell_type": "code",
   "execution_count": 79,
   "id": "eb56ae68",
   "metadata": {},
   "outputs": [],
   "source": [
    "good_words = np.reshape(good[good['Comment'] != 'Yellow']['word'].values, -1)\n",
    "bad_words = np.reshape(bad['word'].values, -1)\n",
    "\n",
    "## Sentiprop\n",
    "polarities = random_walk(s_words, s_embeddings, good_words, bad_words, beta=0.99, nn=25, arccos=False)\n",
    "\n",
    "polarities_df = pd.DataFrame(polarities.items())\n",
    "polarities_df.columns = [\"words\", \"polarity\"]\n",
    "polarities_df.sort_values(\"polarity\",inplace = True)"
   ]
  },
  {
   "cell_type": "code",
   "execution_count": 81,
   "id": "d7b7600b",
   "metadata": {},
   "outputs": [],
   "source": [
    "polarities_df.to_csv(\"SentiProp23.csv\", index = False)"
   ]
  },
  {
   "cell_type": "markdown",
   "id": "4e7b7b7e",
   "metadata": {},
   "source": [
    "### 2.4 Self-trained Embedding  (NF + NF)"
   ]
  },
  {
   "cell_type": "code",
   "execution_count": 82,
   "id": "5dbde53c",
   "metadata": {},
   "outputs": [],
   "source": [
    "good_words = np.reshape(good['word'].values, -1)\n",
    "bad_words = np.reshape(bad['word'].values, -1)\n",
    "\n",
    "## Sentiprop\n",
    "polarities = random_walk(s_words, s_embeddings, good_words, bad_words, beta=0.99, nn=25, arccos=False)\n",
    "\n",
    "polarities_df = pd.DataFrame(polarities.items())\n",
    "polarities_df.columns = [\"words\", \"polarity\"]\n",
    "polarities_df.sort_values(\"polarity\",inplace = True)"
   ]
  },
  {
   "cell_type": "code",
   "execution_count": 83,
   "id": "51ca71d9",
   "metadata": {},
   "outputs": [],
   "source": [
    "polarities_df.to_csv(\"SentiProp24.csv\", index = False)"
   ]
  }
 ],
 "metadata": {
  "kernelspec": {
   "display_name": "sample_env",
   "language": "python",
   "name": "sample_env"
  },
  "language_info": {
   "codemirror_mode": {
    "name": "ipython",
    "version": 3
   },
   "file_extension": ".py",
   "mimetype": "text/x-python",
   "name": "python",
   "nbconvert_exporter": "python",
   "pygments_lexer": "ipython3",
   "version": "3.7.8"
  }
 },
 "nbformat": 4,
 "nbformat_minor": 5
}
