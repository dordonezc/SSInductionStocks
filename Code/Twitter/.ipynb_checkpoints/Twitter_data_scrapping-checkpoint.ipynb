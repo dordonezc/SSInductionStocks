{
 "cells": [
  {
   "cell_type": "code",
   "execution_count": 33,
   "metadata": {},
   "outputs": [],
   "source": [
    "# import the packges\n",
    "import pandas as pd\n",
    "import nest_asyncio\n",
    "nest_asyncio.apply()\n",
    "import twint\n",
    "\n",
    "import datetime\n",
    "import demoji\n",
    "import re\n",
    "import spacy\n",
    "\n",
    "import matplotlib.pyplot as plt"
   ]
  },
  {
   "cell_type": "markdown",
   "metadata": {},
   "source": [
    "## Scrap tweets related to S&P100 and index"
   ]
  },
  {
   "cell_type": "code",
   "execution_count": 2,
   "metadata": {},
   "outputs": [],
   "source": [
    "dataframes = pd.DataFrame()\n",
    "config = twint.Config()\n",
    "\n",
    "def twint_search(cashtag):\n",
    "    config.Hide_output = True\n",
    "    config.Search = cashtag\n",
    "    config.Since = \"2019-01-01\" \n",
    "    config.Until = \"2020-12-31\"\n",
    "    config.Lang = 'en' #language, English\n",
    "    config.Count = True\n",
    "    config.Pandas = True\n",
    "\n",
    "    #running search\n",
    "    twint.run.Search(config)\n",
    "\n",
    "    df = twint.storage.panda.Tweets_df\n",
    "    dataframes.append(df)\n",
    "    return(df) # return the dataframe\n"
   ]
  },
  {
   "cell_type": "code",
   "execution_count": 3,
   "metadata": {},
   "outputs": [
    {
     "name": "stdout",
     "output_type": "stream",
     "text": [
      "[!] No more data! Scraping will stop now.\n",
      "found 0 deleted tweets in this search.\n",
      "[+] Finished: Successfully collected 1260 Tweets.\n"
     ]
    }
   ],
   "source": [
    "oex = twint_search('$OEX') # tweets that contains $OEX"
   ]
  },
  {
   "cell_type": "code",
   "execution_count": 4,
   "metadata": {},
   "outputs": [
    {
     "name": "stdout",
     "output_type": "stream",
     "text": [
      "[!] No more data! Scraping will stop now.\n",
      "found 0 deleted tweets in this search.\n",
      "[+] Finished: Successfully collected 293639 Tweets.\n"
     ]
    }
   ],
   "source": [
    "index = twint_search('#index') # tweets related to index, i.e #index"
   ]
  },
  {
   "cell_type": "code",
   "execution_count": 5,
   "metadata": {},
   "outputs": [],
   "source": [
    "def clean_df(df):\n",
    "    df = df.drop_duplicates(subset = ['tweet']) # remove duplicate tweets\n",
    "    df = df[df['language'] == 'en'] # select English tweets only\n",
    "    columns = ['date', 'tweet', 'hashtags', 'cashtags', 'username'] # select relevant columns only\n",
    "    df = df[columns] \n",
    "    return df\n"
   ]
  },
  {
   "cell_type": "code",
   "execution_count": 11,
   "metadata": {},
   "outputs": [
    {
     "name": "stdout",
     "output_type": "stream",
     "text": [
      "[!] No more data! Scraping will stop now.\n",
      "found 0 deleted tweets in this search.\n",
      "[+] Finished: Successfully collected 429 Tweets.\n"
     ]
    }
   ],
   "source": [
    "sp100 = twint_search('#sp100') # tweets with hashtag sp100\n",
    "sp100 = clean_df(sp100)\n",
    "\n",
    "# oex = clean_df(oex)\n",
    "oex =oex.append(sp100, ignore_index = True) #combine the oex with sp100\n",
    "oex = oex.drop_duplicates(subset = ['tweet'])\n",
    "\n",
    "index =clean_df(index) # clean the index dataframe"
   ]
  },
  {
   "cell_type": "code",
   "execution_count": 15,
   "metadata": {},
   "outputs": [],
   "source": [
    "oex.to_csv('twitter_oex_data.csv', index = False, encoding = 'utf-8')\n",
    "index.to_csv('twitter_index_data.csv', index = False, encoding = 'utf-8')"
   ]
  },
  {
   "cell_type": "markdown",
   "metadata": {},
   "source": [
    "## Sentiment Analysis of Tweets"
   ]
  },
  {
   "cell_type": "code",
   "execution_count": 12,
   "metadata": {},
   "outputs": [
    {
     "data": {
      "text/html": [
       "<div>\n",
       "<style scoped>\n",
       "    .dataframe tbody tr th:only-of-type {\n",
       "        vertical-align: middle;\n",
       "    }\n",
       "\n",
       "    .dataframe tbody tr th {\n",
       "        vertical-align: top;\n",
       "    }\n",
       "\n",
       "    .dataframe thead th {\n",
       "        text-align: right;\n",
       "    }\n",
       "</style>\n",
       "<table border=\"1\" class=\"dataframe\">\n",
       "  <thead>\n",
       "    <tr style=\"text-align: right;\">\n",
       "      <th></th>\n",
       "      <th>date</th>\n",
       "      <th>tweet</th>\n",
       "      <th>hashtags</th>\n",
       "      <th>cashtags</th>\n",
       "      <th>username</th>\n",
       "      <th>source</th>\n",
       "    </tr>\n",
       "  </thead>\n",
       "  <tbody>\n",
       "    <tr>\n",
       "      <th>0</th>\n",
       "      <td>2019-01-01</td>\n",
       "      <td>Daily dose of S&amp;amp;P100 performance. #SP100 ....</td>\n",
       "      <td>['sp100']</td>\n",
       "      <td>[]</td>\n",
       "      <td>ntfri</td>\n",
       "      <td>sp100</td>\n",
       "    </tr>\n",
       "    <tr>\n",
       "      <th>1</th>\n",
       "      <td>2019-01-01</td>\n",
       "      <td>TOP 10 Countries With Highest Scores In Global...</td>\n",
       "      <td>['goodbye2018', 'happy_new_year_2019', 'newyea...</td>\n",
       "      <td>[]</td>\n",
       "      <td>thetimes24</td>\n",
       "      <td>index</td>\n",
       "    </tr>\n",
       "    <tr>\n",
       "      <th>2</th>\n",
       "      <td>2019-01-01</td>\n",
       "      <td>#Calloption #buyers pushed the market up by 12...</td>\n",
       "      <td>['calloption', 'buyers', 'niftyfuture', 'upsid...</td>\n",
       "      <td>[]</td>\n",
       "      <td>AMPLIFYKOLKATA</td>\n",
       "      <td>index</td>\n",
       "    </tr>\n",
       "    <tr>\n",
       "      <th>3</th>\n",
       "      <td>2019-01-01</td>\n",
       "      <td>An even worst scenario is that if a #world #re...</td>\n",
       "      <td>['world', 'recession', 'trading', 'technicalan...</td>\n",
       "      <td>[]</td>\n",
       "      <td>Crirespi</td>\n",
       "      <td>index</td>\n",
       "    </tr>\n",
       "    <tr>\n",
       "      <th>4</th>\n",
       "      <td>2019-01-01</td>\n",
       "      <td>♣️ $QQQ #Nasdaq 🗃 #Index 🔽 -00.96% Year 2018  ...</td>\n",
       "      <td>['nasdaq', 'index', '52week', 'above', 'monthly']</td>\n",
       "      <td>['qqq']</td>\n",
       "      <td>StockDataHill</td>\n",
       "      <td>index</td>\n",
       "    </tr>\n",
       "  </tbody>\n",
       "</table>\n",
       "</div>"
      ],
      "text/plain": [
       "         date                                              tweet  \\\n",
       "0  2019-01-01  Daily dose of S&amp;P100 performance. #SP100 ....   \n",
       "1  2019-01-01  TOP 10 Countries With Highest Scores In Global...   \n",
       "2  2019-01-01  #Calloption #buyers pushed the market up by 12...   \n",
       "3  2019-01-01  An even worst scenario is that if a #world #re...   \n",
       "4  2019-01-01  ♣️ $QQQ #Nasdaq 🗃 #Index 🔽 -00.96% Year 2018  ...   \n",
       "\n",
       "                                            hashtags cashtags        username  \\\n",
       "0                                          ['sp100']       []           ntfri   \n",
       "1  ['goodbye2018', 'happy_new_year_2019', 'newyea...       []      thetimes24   \n",
       "2  ['calloption', 'buyers', 'niftyfuture', 'upsid...       []  AMPLIFYKOLKATA   \n",
       "3  ['world', 'recession', 'trading', 'technicalan...       []        Crirespi   \n",
       "4  ['nasdaq', 'index', '52week', 'above', 'monthly']  ['qqq']   StockDataHill   \n",
       "\n",
       "  source  \n",
       "0  sp100  \n",
       "1  index  \n",
       "2  index  \n",
       "3  index  \n",
       "4  index  "
      ]
     },
     "execution_count": 12,
     "metadata": {},
     "output_type": "execute_result"
    }
   ],
   "source": [
    "# import the data\n",
    "oex = pd.read_csv('twitter_oex_data.csv')\n",
    "index = pd.read_csv('twitter_index_data.csv')\n",
    "\n",
    "# add a column to indicate the sources\n",
    "oex['source'] = 'sp100'\n",
    "index['source'] = 'index'\n",
    "\n",
    "# combine two dataframes\n",
    "index = index.append(oex, ignore_index = True)\n",
    "\n",
    "# remove duplicate tweets\n",
    "index = index.drop_duplicates(subset = ['tweet'])\n",
    "\n",
    "# change the data to timestamp\n",
    "index['date'] = index['date'].apply(lambda x: datetime.datetime.strptime(x, \"%Y-%m-%d %H:%M:%S\").date())\n",
    "\n",
    "# sort the time\n",
    "index = index.sort_values(by=['date'], ignore_index = True)\n",
    "\n",
    "index.head()"
   ]
  },
  {
   "cell_type": "code",
   "execution_count": 14,
   "metadata": {},
   "outputs": [
    {
     "name": "stdout",
     "output_type": "stream",
     "text": [
      "Downloading emoji data ...\n",
      "... OK (Got response in 0.50 seconds)\n",
      "Writing emoji data to C:\\Users\\Chenx\\.demoji\\codes.json ...\n",
      "... OK\n"
     ]
    }
   ],
   "source": [
    "# download the latest emojis\n",
    "demoji.download_codes()"
   ]
  },
  {
   "cell_type": "code",
   "execution_count": 15,
   "metadata": {},
   "outputs": [],
   "source": [
    "# remove emojis in tweets\n",
    "index['tweet'] = index['tweet'].apply(lambda x: demoji.replace(x, \"\"))"
   ]
  },
  {
   "cell_type": "code",
   "execution_count": 27,
   "metadata": {},
   "outputs": [],
   "source": [
    "# load stop words\n",
    "sp = spacy.load('en_core_web_sm')\n",
    "all_stopwords = sp.Defaults.stop_words\n",
    "\n",
    "master = pd.read_csv('LoughranMcDonald_MasterDictionary_2016.csv') # LoughranMcDonald master word list\n",
    "\n",
    "# convert the positive/negative words to a list\n",
    "positive = master[master[\"Positive\"]>0]\n",
    "negative = master[master[\"Negative\"]>0]\n",
    "\n",
    "pos_words = positive[\"Word\"].tolist()\n",
    "neg_words = negative[\"Word\"].tolist()\n",
    "\n",
    "pos_words = [word.lower() for word in pos_words]\n",
    "neg_words = [word.lower() for word in neg_words]\n",
    "\n",
    "# remove url, mentions, hashtags\n",
    "def remove_content(text):\n",
    "    text = re.sub(r\"http\\S+\", \"\", text) #remove urls\n",
    "    text=re.sub(r'\\S+\\.com\\S+','',text) \n",
    "    text=re.sub(r'\\@\\w+','',text) #remove mentions\n",
    "    text =re.sub(r'\\#\\w+','',text) #remove hashtags\n",
    "    return text\n",
    "\n",
    "# define the function to clean the test -remove stop words, punctuation\n",
    "def clean_text(text):\n",
    "    text = remove_content(text)\n",
    "    s = re.sub(r'[^\\w\\s]','', text) #remove punctuation\n",
    "    word = s.split() # convert the text to a list of words\n",
    "    word = [x.lower() for x in word] # convert to lower case\n",
    "    word = [wo for wo in word if not wo in all_stopwords] # remove stop words\n",
    "    return word\n",
    "\n",
    "def word_count(text):\n",
    "    content = clean_text(text)\n",
    "    words_new_pos = [word for word in content if word in pos_words]\n",
    "    words_new_neg = [word for word in content if word in neg_words]\n",
    "    try: \n",
    "        polarity = (len(words_new_pos) - len(words_new_neg))/(len(words_new_pos) + len(words_new_neg)) # calculate polarity\n",
    "    except ZeroDivisionError:\n",
    "        polarity = 0\n",
    "    return polarity"
   ]
  },
  {
   "cell_type": "code",
   "execution_count": 28,
   "metadata": {},
   "outputs": [
    {
     "data": {
      "text/html": [
       "<div>\n",
       "<style scoped>\n",
       "    .dataframe tbody tr th:only-of-type {\n",
       "        vertical-align: middle;\n",
       "    }\n",
       "\n",
       "    .dataframe tbody tr th {\n",
       "        vertical-align: top;\n",
       "    }\n",
       "\n",
       "    .dataframe thead th {\n",
       "        text-align: right;\n",
       "    }\n",
       "</style>\n",
       "<table border=\"1\" class=\"dataframe\">\n",
       "  <thead>\n",
       "    <tr style=\"text-align: right;\">\n",
       "      <th></th>\n",
       "      <th>date</th>\n",
       "      <th>tweet</th>\n",
       "      <th>hashtags</th>\n",
       "      <th>cashtags</th>\n",
       "      <th>username</th>\n",
       "      <th>source</th>\n",
       "      <th>polarity</th>\n",
       "    </tr>\n",
       "  </thead>\n",
       "  <tbody>\n",
       "    <tr>\n",
       "      <th>0</th>\n",
       "      <td>2019-01-01</td>\n",
       "      <td>Daily dose of S&amp;amp;P100 performance. #SP100 ....</td>\n",
       "      <td>['sp100']</td>\n",
       "      <td>[]</td>\n",
       "      <td>ntfri</td>\n",
       "      <td>sp100</td>\n",
       "      <td>0.0</td>\n",
       "    </tr>\n",
       "    <tr>\n",
       "      <th>1</th>\n",
       "      <td>2019-01-01</td>\n",
       "      <td>TOP 10 Countries With Highest Scores In Global...</td>\n",
       "      <td>['goodbye2018', 'happy_new_year_2019', 'newyea...</td>\n",
       "      <td>[]</td>\n",
       "      <td>thetimes24</td>\n",
       "      <td>index</td>\n",
       "      <td>1.0</td>\n",
       "    </tr>\n",
       "    <tr>\n",
       "      <th>2</th>\n",
       "      <td>2019-01-01</td>\n",
       "      <td>#Calloption #buyers pushed the market up by 12...</td>\n",
       "      <td>['calloption', 'buyers', 'niftyfuture', 'upsid...</td>\n",
       "      <td>[]</td>\n",
       "      <td>AMPLIFYKOLKATA</td>\n",
       "      <td>index</td>\n",
       "      <td>0.0</td>\n",
       "    </tr>\n",
       "    <tr>\n",
       "      <th>3</th>\n",
       "      <td>2019-01-01</td>\n",
       "      <td>An even worst scenario is that if a #world #re...</td>\n",
       "      <td>['world', 'recession', 'trading', 'technicalan...</td>\n",
       "      <td>[]</td>\n",
       "      <td>Crirespi</td>\n",
       "      <td>index</td>\n",
       "      <td>-1.0</td>\n",
       "    </tr>\n",
       "    <tr>\n",
       "      <th>4</th>\n",
       "      <td>2019-01-01</td>\n",
       "      <td>$QQQ #Nasdaq  #Index  -00.96% Year 2018   -08...</td>\n",
       "      <td>['nasdaq', 'index', '52week', 'above', 'monthly']</td>\n",
       "      <td>['qqq']</td>\n",
       "      <td>StockDataHill</td>\n",
       "      <td>index</td>\n",
       "      <td>0.0</td>\n",
       "    </tr>\n",
       "  </tbody>\n",
       "</table>\n",
       "</div>"
      ],
      "text/plain": [
       "         date                                              tweet  \\\n",
       "0  2019-01-01  Daily dose of S&amp;P100 performance. #SP100 ....   \n",
       "1  2019-01-01  TOP 10 Countries With Highest Scores In Global...   \n",
       "2  2019-01-01  #Calloption #buyers pushed the market up by 12...   \n",
       "3  2019-01-01  An even worst scenario is that if a #world #re...   \n",
       "4  2019-01-01   $QQQ #Nasdaq  #Index  -00.96% Year 2018   -08...   \n",
       "\n",
       "                                            hashtags cashtags        username  \\\n",
       "0                                          ['sp100']       []           ntfri   \n",
       "1  ['goodbye2018', 'happy_new_year_2019', 'newyea...       []      thetimes24   \n",
       "2  ['calloption', 'buyers', 'niftyfuture', 'upsid...       []  AMPLIFYKOLKATA   \n",
       "3  ['world', 'recession', 'trading', 'technicalan...       []        Crirespi   \n",
       "4  ['nasdaq', 'index', '52week', 'above', 'monthly']  ['qqq']   StockDataHill   \n",
       "\n",
       "  source  polarity  \n",
       "0  sp100       0.0  \n",
       "1  index       1.0  \n",
       "2  index       0.0  \n",
       "3  index      -1.0  \n",
       "4  index       0.0  "
      ]
     },
     "execution_count": 28,
     "metadata": {},
     "output_type": "execute_result"
    }
   ],
   "source": [
    "index['polarity'] = index['tweet'].apply(lambda x: word_count(x))\n",
    "index.head()"
   ]
  },
  {
   "cell_type": "code",
   "execution_count": 41,
   "metadata": {},
   "outputs": [
    {
     "data": {
      "text/plain": [
       "0.01397175506348598"
      ]
     },
     "execution_count": 41,
     "metadata": {},
     "output_type": "execute_result"
    }
   ],
   "source": [
    "daily = index.groupby(by = ['date']).mean() # group the data by date"
   ]
  },
  {
   "cell_type": "code",
   "execution_count": 42,
   "metadata": {},
   "outputs": [
    {
     "data": {
      "image/png": "[encoded data removed]",
      "text/plain": [
       "<Figure size 864x360 with 1 Axes>"
      ]
     },
     "metadata": {
      "needs_background": "light"
     },
     "output_type": "display_data"
    }
   ],
   "source": [
    "plt.subplots(figsize = (12, 5))\n",
    "\n",
    "daily.polarity.plot()\n",
    "plt.axhline(daily.polarity.mean(), color = 'r', linestyle = ':')\n",
    "plt.ylabel('Polarity')\n",
    "plt.title('Daily Average Sentiment of Tweets (2019-2020)')\n",
    "plt.show()"
   ]
  },
  {
   "cell_type": "code",
   "execution_count": 45,
   "metadata": {},
   "outputs": [],
   "source": [
    "# save the sentiment series to csv\n",
    "daily.to_csv('DailySentiment_Twitter.csv')"
   ]
  }
 ],
 "metadata": {
  "kernelspec": {
   "display_name": "Python 3",
   "language": "python",
   "name": "python3"
  },
  "language_info": {
   "codemirror_mode": {
    "name": "ipython",
    "version": 3
   },
   "file_extension": ".py",
   "mimetype": "text/x-python",
   "name": "python",
   "nbconvert_exporter": "python",
   "pygments_lexer": "ipython3",
   "version": "3.8.5"
  }
 },
 "nbformat": 4,
 "nbformat_minor": 4
}
